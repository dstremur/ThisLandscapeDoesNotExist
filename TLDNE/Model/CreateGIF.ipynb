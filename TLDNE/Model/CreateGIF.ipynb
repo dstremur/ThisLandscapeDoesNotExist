{
 "cells": [
  {
   "cell_type": "code",
   "execution_count": 22,
   "metadata": {},
   "outputs": [],
   "source": [
    "import imageio\n",
    "import glob"
   ]
  },
  {
   "cell_type": "code",
   "execution_count": 18,
   "metadata": {},
   "outputs": [
    {
     "name": "stdout",
     "output_type": "stream",
     "text": [
      "(128, 128, 3)\n"
     ]
    },
    {
     "name": "stderr",
     "output_type": "stream",
     "text": [
      "C:\\Users\\diego\\AppData\\Local\\Temp\\ipykernel_10304\\1910490806.py:1: DeprecationWarning: Starting with ImageIO v3 the behavior of this function will switch to that of iio.v3.imread. To keep the current behavior (and make this warning disappear) use `import imageio.v2 as imageio` or call `imageio.v2.imread` directly.\n",
      "  img = imageio.imread('Best images\\generated_img_000_6.png')\n"
     ]
    }
   ],
   "source": [
    "img = imageio.imread('Best images\\generated_img_000_6.png')\n",
    "print(img.shape)"
   ]
  },
  {
   "cell_type": "code",
   "execution_count": 37,
   "metadata": {},
   "outputs": [
    {
     "name": "stdout",
     "output_type": "stream",
     "text": [
      "['Generated Images128Batch\\\\generated_img_000_8.png', 'Generated Images128Batch\\\\generated_img_001_8.png', 'Generated Images128Batch\\\\generated_img_002_8.png', 'Generated Images128Batch\\\\generated_img_003_8.png', 'Generated Images128Batch\\\\generated_img_004_8.png', 'Generated Images128Batch\\\\generated_img_005_8.png', 'Generated Images128Batch\\\\generated_img_006_8.png', 'Generated Images128Batch\\\\generated_img_007_8.png', 'Generated Images128Batch\\\\generated_img_008_8.png', 'Generated Images128Batch\\\\generated_img_009_8.png', 'Generated Images128Batch\\\\generated_img_010_8.png', 'Generated Images128Batch\\\\generated_img_011_8.png', 'Generated Images128Batch\\\\generated_img_012_8.png', 'Generated Images128Batch\\\\generated_img_013_8.png', 'Generated Images128Batch\\\\generated_img_014_8.png', 'Generated Images128Batch\\\\generated_img_015_8.png', 'Generated Images128Batch\\\\generated_img_016_8.png', 'Generated Images128Batch\\\\generated_img_017_8.png', 'Generated Images128Batch\\\\generated_img_018_8.png', 'Generated Images128Batch\\\\generated_img_019_8.png', 'Generated Images128Batch\\\\generated_img_020_8.png', 'Generated Images128Batch\\\\generated_img_021_8.png', 'Generated Images128Batch\\\\generated_img_022_8.png', 'Generated Images128Batch\\\\generated_img_023_8.png', 'Generated Images128Batch\\\\generated_img_024_8.png', 'Generated Images128Batch\\\\generated_img_025_8.png', 'Generated Images128Batch\\\\generated_img_026_8.png', 'Generated Images128Batch\\\\generated_img_027_8.png', 'Generated Images128Batch\\\\generated_img_028_8.png', 'Generated Images128Batch\\\\generated_img_029_8.png', 'Generated Images128Batch\\\\generated_img_030_8.png', 'Generated Images128Batch\\\\generated_img_031_8.png', 'Generated Images128Batch\\\\generated_img_032_8.png', 'Generated Images128Batch\\\\generated_img_033_8.png', 'Generated Images128Batch\\\\generated_img_034_8.png', 'Generated Images128Batch\\\\generated_img_035_8.png', 'Generated Images128Batch\\\\generated_img_036_8.png', 'Generated Images128Batch\\\\generated_img_037_8.png', 'Generated Images128Batch\\\\generated_img_038_8.png', 'Generated Images128Batch\\\\generated_img_039_8.png', 'Generated Images128Batch\\\\generated_img_040_8.png', 'Generated Images128Batch\\\\generated_img_041_8.png', 'Generated Images128Batch\\\\generated_img_042_8.png', 'Generated Images128Batch\\\\generated_img_043_8.png', 'Generated Images128Batch\\\\generated_img_044_8.png', 'Generated Images128Batch\\\\generated_img_045_8.png', 'Generated Images128Batch\\\\generated_img_046_8.png', 'Generated Images128Batch\\\\generated_img_047_8.png', 'Generated Images128Batch\\\\generated_img_048_8.png', 'Generated Images128Batch\\\\generated_img_049_8.png', 'Generated Images128Batch\\\\generated_img_050_8.png', 'Generated Images128Batch\\\\generated_img_051_8.png', 'Generated Images128Batch\\\\generated_img_052_8.png', 'Generated Images128Batch\\\\generated_img_053_8.png', 'Generated Images128Batch\\\\generated_img_054_8.png', 'Generated Images128Batch\\\\generated_img_055_8.png', 'Generated Images128Batch\\\\generated_img_056_8.png', 'Generated Images128Batch\\\\generated_img_057_8.png', 'Generated Images128Batch\\\\generated_img_058_8.png', 'Generated Images128Batch\\\\generated_img_059_8.png', 'Generated Images128Batch\\\\generated_img_060_8.png', 'Generated Images128Batch\\\\generated_img_061_8.png', 'Generated Images128Batch\\\\generated_img_062_8.png', 'Generated Images128Batch\\\\generated_img_063_8.png', 'Generated Images128Batch\\\\generated_img_064_8.png', 'Generated Images128Batch\\\\generated_img_065_8.png', 'Generated Images128Batch\\\\generated_img_066_8.png', 'Generated Images128Batch\\\\generated_img_067_8.png', 'Generated Images128Batch\\\\generated_img_068_8.png', 'Generated Images128Batch\\\\generated_img_069_8.png', 'Generated Images128Batch\\\\generated_img_070_8.png', 'Generated Images128Batch\\\\generated_img_071_8.png', 'Generated Images128Batch\\\\generated_img_072_8.png', 'Generated Images128Batch\\\\generated_img_073_8.png', 'Generated Images128Batch\\\\generated_img_074_8.png', 'Generated Images128Batch\\\\generated_img_075_8.png', 'Generated Images128Batch\\\\generated_img_076_8.png', 'Generated Images128Batch\\\\generated_img_077_8.png', 'Generated Images128Batch\\\\generated_img_078_8.png', 'Generated Images128Batch\\\\generated_img_079_8.png', 'Generated Images128Batch\\\\generated_img_080_8.png', 'Generated Images128Batch\\\\generated_img_081_8.png', 'Generated Images128Batch\\\\generated_img_082_8.png', 'Generated Images128Batch\\\\generated_img_083_8.png', 'Generated Images128Batch\\\\generated_img_084_8.png', 'Generated Images128Batch\\\\generated_img_085_8.png', 'Generated Images128Batch\\\\generated_img_086_8.png', 'Generated Images128Batch\\\\generated_img_087_8.png', 'Generated Images128Batch\\\\generated_img_088_8.png', 'Generated Images128Batch\\\\generated_img_089_8.png', 'Generated Images128Batch\\\\generated_img_090_8.png', 'Generated Images128Batch\\\\generated_img_091_8.png', 'Generated Images128Batch\\\\generated_img_092_8.png', 'Generated Images128Batch\\\\generated_img_093_8.png', 'Generated Images128Batch\\\\generated_img_094_8.png', 'Generated Images128Batch\\\\generated_img_095_8.png', 'Generated Images128Batch\\\\generated_img_096_8.png', 'Generated Images128Batch\\\\generated_img_097_8.png', 'Generated Images128Batch\\\\generated_img_098_8.png', 'Generated Images128Batch\\\\generated_img_099_8.png', 'Generated Images128Batch\\\\generated_img_100_8.png', 'Generated Images128Batch\\\\generated_img_101_8.png', 'Generated Images128Batch\\\\generated_img_102_8.png', 'Generated Images128Batch\\\\generated_img_103_8.png', 'Generated Images128Batch\\\\generated_img_104_8.png', 'Generated Images128Batch\\\\generated_img_105_8.png', 'Generated Images128Batch\\\\generated_img_106_8.png', 'Generated Images128Batch\\\\generated_img_107_8.png', 'Generated Images128Batch\\\\generated_img_108_8.png', 'Generated Images128Batch\\\\generated_img_109_8.png', 'Generated Images128Batch\\\\generated_img_110_8.png', 'Generated Images128Batch\\\\generated_img_111_8.png', 'Generated Images128Batch\\\\generated_img_112_8.png', 'Generated Images128Batch\\\\generated_img_113_8.png', 'Generated Images128Batch\\\\generated_img_114_8.png', 'Generated Images128Batch\\\\generated_img_115_8.png', 'Generated Images128Batch\\\\generated_img_116_8.png', 'Generated Images128Batch\\\\generated_img_117_8.png', 'Generated Images128Batch\\\\generated_img_118_8.png', 'Generated Images128Batch\\\\generated_img_119_8.png', 'Generated Images128Batch\\\\generated_img_120_8.png', 'Generated Images128Batch\\\\generated_img_121_8.png', 'Generated Images128Batch\\\\generated_img_122_8.png', 'Generated Images128Batch\\\\generated_img_123_8.png', 'Generated Images128Batch\\\\generated_img_124_8.png', 'Generated Images128Batch\\\\generated_img_125_8.png', 'Generated Images128Batch\\\\generated_img_126_8.png', 'Generated Images128Batch\\\\generated_img_127_8.png', 'Generated Images128Batch\\\\generated_img_128_8.png', 'Generated Images128Batch\\\\generated_img_129_8.png', 'Generated Images128Batch\\\\generated_img_130_8.png', 'Generated Images128Batch\\\\generated_img_131_8.png', 'Generated Images128Batch\\\\generated_img_132_8.png', 'Generated Images128Batch\\\\generated_img_133_8.png', 'Generated Images128Batch\\\\generated_img_134_8.png', 'Generated Images128Batch\\\\generated_img_135_8.png', 'Generated Images128Batch\\\\generated_img_136_8.png', 'Generated Images128Batch\\\\generated_img_137_8.png', 'Generated Images128Batch\\\\generated_img_138_8.png', 'Generated Images128Batch\\\\generated_img_139_8.png', 'Generated Images128Batch\\\\generated_img_140_8.png', 'Generated Images128Batch\\\\generated_img_141_8.png', 'Generated Images128Batch\\\\generated_img_142_8.png', 'Generated Images128Batch\\\\generated_img_143_8.png', 'Generated Images128Batch\\\\generated_img_144_8.png', 'Generated Images128Batch\\\\generated_img_145_8.png', 'Generated Images128Batch\\\\generated_img_146_8.png', 'Generated Images128Batch\\\\generated_img_147_8.png', 'Generated Images128Batch\\\\generated_img_148_8.png', 'Generated Images128Batch\\\\generated_img_149_8.png', 'Generated Images128Batch\\\\generated_img_150_8.png', 'Generated Images128Batch\\\\generated_img_151_8.png', 'Generated Images128Batch\\\\generated_img_152_8.png', 'Generated Images128Batch\\\\generated_img_153_8.png', 'Generated Images128Batch\\\\generated_img_154_8.png', 'Generated Images128Batch\\\\generated_img_155_8.png', 'Generated Images128Batch\\\\generated_img_156_8.png', 'Generated Images128Batch\\\\generated_img_157_8.png', 'Generated Images128Batch\\\\generated_img_158_8.png', 'Generated Images128Batch\\\\generated_img_159_8.png', 'Generated Images128Batch\\\\generated_img_160_8.png', 'Generated Images128Batch\\\\generated_img_161_8.png', 'Generated Images128Batch\\\\generated_img_162_8.png', 'Generated Images128Batch\\\\generated_img_163_8.png', 'Generated Images128Batch\\\\generated_img_164_8.png', 'Generated Images128Batch\\\\generated_img_165_8.png', 'Generated Images128Batch\\\\generated_img_166_8.png', 'Generated Images128Batch\\\\generated_img_167_8.png', 'Generated Images128Batch\\\\generated_img_168_8.png', 'Generated Images128Batch\\\\generated_img_169_8.png', 'Generated Images128Batch\\\\generated_img_170_8.png', 'Generated Images128Batch\\\\generated_img_171_8.png', 'Generated Images128Batch\\\\generated_img_172_8.png', 'Generated Images128Batch\\\\generated_img_173_8.png', 'Generated Images128Batch\\\\generated_img_174_8.png', 'Generated Images128Batch\\\\generated_img_175_8.png', 'Generated Images128Batch\\\\generated_img_176_8.png', 'Generated Images128Batch\\\\generated_img_177_8.png', 'Generated Images128Batch\\\\generated_img_178_8.png', 'Generated Images128Batch\\\\generated_img_179_8.png', 'Generated Images128Batch\\\\generated_img_180_8.png', 'Generated Images128Batch\\\\generated_img_181_8.png', 'Generated Images128Batch\\\\generated_img_182_8.png', 'Generated Images128Batch\\\\generated_img_183_8.png', 'Generated Images128Batch\\\\generated_img_184_8.png', 'Generated Images128Batch\\\\generated_img_185_8.png', 'Generated Images128Batch\\\\generated_img_186_8.png', 'Generated Images128Batch\\\\generated_img_187_8.png', 'Generated Images128Batch\\\\generated_img_188_8.png', 'Generated Images128Batch\\\\generated_img_189_8.png', 'Generated Images128Batch\\\\generated_img_190_8.png', 'Generated Images128Batch\\\\generated_img_191_8.png', 'Generated Images128Batch\\\\generated_img_192_8.png', 'Generated Images128Batch\\\\generated_img_193_8.png', 'Generated Images128Batch\\\\generated_img_194_8.png', 'Generated Images128Batch\\\\generated_img_195_8.png', 'Generated Images128Batch\\\\generated_img_196_8.png', 'Generated Images128Batch\\\\generated_img_197_8.png', 'Generated Images128Batch\\\\generated_img_198_8.png', 'Generated Images128Batch\\\\generated_img_199_8.png']\n"
     ]
    },
    {
     "name": "stderr",
     "output_type": "stream",
     "text": [
      "C:\\Users\\diego\\AppData\\Local\\Temp\\ipykernel_10304\\2187495242.py:8: DeprecationWarning: Starting with ImageIO v3 the behavior of this function will switch to that of iio.v3.imread. To keep the current behavior (and make this warning disappear) use `import imageio.v2 as imageio` or call `imageio.v2.imread` directly.\n",
      "  img = imageio.imread(i)\n"
     ]
    }
   ],
   "source": [
    "filenames = glob.glob('Generated Images128Batch/*')\n",
    "filenames = sorted(filenames)\n",
    "print(filenames)\n",
    "\n",
    "data = []\n",
    "\n",
    "for i in filenames:\n",
    "    img = imageio.imread(i)\n",
    "    data.append(img)\n"
   ]
  },
  {
   "cell_type": "code",
   "execution_count": 41,
   "metadata": {},
   "outputs": [],
   "source": [
    "imageio.mimwrite('test.gif', data, format= '.gif', fps = 5)\n"
   ]
  }
 ],
 "metadata": {
  "kernelspec": {
   "display_name": "Python 3",
   "language": "python",
   "name": "python3"
  },
  "language_info": {
   "codemirror_mode": {
    "name": "ipython",
    "version": 3
   },
   "file_extension": ".py",
   "mimetype": "text/x-python",
   "name": "python",
   "nbconvert_exporter": "python",
   "pygments_lexer": "ipython3",
   "version": "3.9.2"
  },
  "orig_nbformat": 4,
  "vscode": {
   "interpreter": {
    "hash": "11938c6bc6919ae2720b4d5011047913343b08a43b18698fd82dedb0d4417594"
   }
  }
 },
 "nbformat": 4,
 "nbformat_minor": 2
}
